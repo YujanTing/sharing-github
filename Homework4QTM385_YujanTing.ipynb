{
 "cells": [
  {
   "cell_type": "markdown",
   "metadata": {},
   "source": [
    "# QTM 385\n",
    "\n",
    "***\n",
    "\n",
    "## Homework 4\n",
    "\n",
    "Student: [Yujan Ting 2361170]"
   ]
  },
  {
   "cell_type": "markdown",
   "metadata": {},
   "source": [
    "In this homework, we will create an object called Student, that is useful for a professor to store information about a student."
   ]
  },
  {
   "cell_type": "markdown",
   "metadata": {},
   "source": [
    "\n",
    "***\n",
    "\n",
    "### Question 1\n",
    "\n",
    "Create a class Student, that has:\n",
    "\n",
    "0. Id number (5-digits integer, starting with 1)\n",
    "1. First Name (str)\n",
    "2. Last Name (str)\n",
    "3. Grades (list of floats)\n",
    "4. Credits (list of integers)\n",
    "5. Major (str)\n",
    "\n",
    "Provide a constructor for your class and create one fictitious student."
   ]
  },
  {
   "cell_type": "code",
   "execution_count": 1,
   "metadata": {},
   "outputs": [],
   "source": [
    "class Student:\n",
    "    \n",
    "    def __init__(self, id_num, first_name, last_name, grades, credits, major):\n",
    "        self.id = id_num\n",
    "        self.first_name = first_name\n",
    "        self.last_name = last_name\n",
    "        self.grades = grades \n",
    "        self.credits = credits\n",
    "        self.major = major\n",
    "        "
   ]
  },
  {
   "cell_type": "code",
   "execution_count": 2,
   "metadata": {},
   "outputs": [
    {
     "name": "stdout",
     "output_type": "stream",
     "text": [
      "Id number: 13862\n",
      "First name: Cecilia\n",
      "Last name: Kim\n",
      "Grades: [90.2, 95.7, 80, 83]\n",
      "Credits: [4, 5, 3, 4]\n",
      "Major: Statistics\n"
     ]
    }
   ],
   "source": [
    "stu = Student(13862, 'Cecilia', 'Kim', [90.2, 95.7, 80, 83], [4, 5, 3, 4], 'Statistics')\n",
    "print('Id number: ' + str(stu.id))\n",
    "print('First name: ' + stu.first_name)\n",
    "print('Last name: ' + stu.last_name)\n",
    "print('Grades: ' + str(stu.grades))\n",
    "print('Credits: ' + str(stu.credits))\n",
    "print('Major: ' + stu.major)"
   ]
  },
  {
   "cell_type": "markdown",
   "metadata": {},
   "source": [
    "\n",
    "***\n",
    "\n",
    "### Question 2\n",
    "\n",
    "Create a method to nicely display the student when we type `print`. It should display, for example:\n",
    "\n",
    "```\n",
    "Student:\n",
    "    Id: 12345\n",
    "    Name: Mig, Umberto\n",
    "    Major: QSS\n",
    "```\n",
    "\n",
    "Create a method that, when a variable storing a student is typed in the console, displays:\n",
    "\n",
    "```\n",
    "Student(Mig, Umberto; 12345)\n",
    "```\n",
    "\n",
    "Provide some testing with a fictitious result of your choice."
   ]
  },
  {
   "cell_type": "code",
   "execution_count": 3,
   "metadata": {},
   "outputs": [],
   "source": [
    "class Student:\n",
    "    \n",
    "    def __init__(self, id_num, first_name, last_name, grades, credits, major):\n",
    "        self.id = id_num\n",
    "        self.first_name = first_name\n",
    "        self.last_name = last_name\n",
    "        self.grades = grades \n",
    "        self.credits = credits\n",
    "        self.major = major\n",
    "        \n",
    "    # method to display the student when we type print command\n",
    "    def __str__(self):\n",
    "        stu_info = \"\"\"\n",
    "        Student:\n",
    "            Id: {id_num}\n",
    "            Name: {last}, {first}\n",
    "            Major: {major}\n",
    "            \"\"\".format(id_num = self.id, last = self.last_name, first = self.first_name, major = self.major)\n",
    "        return stu_info\n",
    "    \n",
    "    # method to display the variable storing a student when typed in the console\n",
    "    def __repr__(self):\n",
    "        return \"Student({last}, {first}; {id_num})\".format(last = self.last_name, first = self.first_name, id_num = self.id)"
   ]
  },
  {
   "cell_type": "code",
   "execution_count": 4,
   "metadata": {},
   "outputs": [],
   "source": [
    "stu = Student(13862, 'Cecilia', 'Kim', [90.2, 95.7, 80, 83], [4, 5, 3, 4], 'Statistics')"
   ]
  },
  {
   "cell_type": "code",
   "execution_count": 5,
   "metadata": {},
   "outputs": [
    {
     "name": "stdout",
     "output_type": "stream",
     "text": [
      "\n",
      "        Student:\n",
      "            Id: 13862\n",
      "            Name: Kim, Cecilia\n",
      "            Major: Statistics\n",
      "            \n"
     ]
    }
   ],
   "source": [
    "print(stu)"
   ]
  },
  {
   "cell_type": "code",
   "execution_count": 6,
   "metadata": {},
   "outputs": [
    {
     "data": {
      "text/plain": [
       "Student(Kim, Cecilia; 13862)"
      ]
     },
     "execution_count": 6,
     "metadata": {},
     "output_type": "execute_result"
    }
   ],
   "source": [
    "stu"
   ]
  },
  {
   "cell_type": "markdown",
   "metadata": {},
   "source": [
    "\n",
    "***\n",
    "\n",
    "### Question 3\n",
    "\n",
    "Implement class methods for:\n",
    "\n",
    "1. Check if the id number is valid (remember: 5 digits, starting with number one)\n",
    "2. Check if the grades list has the same length as the credits list. The idea is that every grade corresponds to a course that gave the student a certain amount of credits.\n",
    "3. Append grade and credit: given a grade, and credits attached to the grade, append both to each respective place.\n",
    "\n",
    "Test your function with a toy student of your choice."
   ]
  },
  {
   "cell_type": "code",
   "execution_count": 7,
   "metadata": {},
   "outputs": [],
   "source": [
    "import pandas as pd\n",
    "\n",
    "class Student:\n",
    "    \n",
    "    def __init__(self, id_num, first_name, last_name, grades, credits, major):\n",
    "        self.id = id_num\n",
    "        self.first_name = first_name\n",
    "        self.last_name = last_name\n",
    "        self.grades = grades \n",
    "        self.credits = credits\n",
    "        self.major = major\n",
    "        \n",
    "    # Check if the id number is valid (5 digits, starting with number one)\n",
    "    def is_id_valid(self):\n",
    "        return isinstance(self.id, int) & (len(str(self.id)) == 5) & (str(self.id)[0] == '1')\n",
    "    \n",
    "    # Check if the grades list has the same length as the credits list\n",
    "    def is_same_length(self):\n",
    "        return len(self.grades) == len(self.credits)\n",
    "    \n",
    "    # Append grade and credit\n",
    "    def append_grades_credits(self, grade, credit):\n",
    "        self.grades.append(grade)\n",
    "        self.credits.append(credit)\n",
    "        \n",
    "    # method to display the student when we type print command\n",
    "    def __str__(self):\n",
    "        stu_info = \"\"\"\n",
    "        Student:\n",
    "            Id: {id_num}\n",
    "            Name: {last}, {first}\n",
    "            Major: {major}\n",
    "            \"\"\".format(id_num = self.id, last = self.last_name, first = self.first_name, major = self.major)\n",
    "        return stu_info\n",
    "    \n",
    "    # method to display the variable storing a student when typed in the console\n",
    "    def __repr__(self):\n",
    "        return \"Student({last}, {first}; {id_num})\".format(last = self.last_name, first = self.first_name, id_num = self.id)"
   ]
  },
  {
   "cell_type": "code",
   "execution_count": 8,
   "metadata": {},
   "outputs": [
    {
     "name": "stdout",
     "output_type": "stream",
     "text": [
      "The id number is valid: True\n",
      "The grades list has the same length as the credits list: True\n",
      "After append grade 98 and credit 5 to each respective place,\n",
      "grades: [90.2, 95.7, 80, 83, 98]\n",
      "credits: [4, 5, 3, 4, 5]\n"
     ]
    }
   ],
   "source": [
    "# Test case 1\n",
    "stu1 = Student(13862, 'Cecilia', 'Kim', [90.2, 95.7, 80, 83], [4, 5, 3, 4], 'Statistics')\n",
    "print('The id number is valid: ' + str(stu1.is_id_valid()))\n",
    "print('The grades list has the same length as the credits list: ' + str(stu1.is_same_length()))\n",
    "stu1.append_grades_credits(98, 5)\n",
    "print('After append grade 98 and credit 5 to each respective place,')\n",
    "print('grades: ' + str(stu1.grades))\n",
    "print('credits: ' + str(stu1.credits))"
   ]
  },
  {
   "cell_type": "code",
   "execution_count": 9,
   "metadata": {},
   "outputs": [
    {
     "name": "stdout",
     "output_type": "stream",
     "text": [
      "The id number is valid: False\n",
      "The grades list has the same length as the credits list: False\n",
      "After append grade 90 and credit 2 to each respective place,\n",
      "grades: [98, 92.5, 82, 89, 90]\n",
      "credits: [4, 5, 3, 2]\n"
     ]
    }
   ],
   "source": [
    "# Test case 2\n",
    "stu2 = Student(2836, 'Mika', 'Wilson', [98, 92.5, 82, 89], [4, 5, 3], 'CS')\n",
    "print('The id number is valid: ' + str(stu2.is_id_valid()))\n",
    "print('The grades list has the same length as the credits list: ' + str(stu2.is_same_length()))\n",
    "stu2.append_grades_credits(90, 2)\n",
    "print('After append grade 90 and credit 2 to each respective place,')\n",
    "print('grades: ' + str(stu2.grades))\n",
    "print('credits: ' + str(stu2.credits))"
   ]
  },
  {
   "cell_type": "markdown",
   "metadata": {},
   "source": [
    "\n",
    "***\n",
    "\n",
    "### Question 4\n",
    "\n",
    "Create a module in the class Student that computes the unweighted average of the student's grades."
   ]
  },
  {
   "cell_type": "code",
   "execution_count": 3,
   "metadata": {},
   "outputs": [],
   "source": [
    "import pandas as pd\n",
    "\n",
    "class Student:\n",
    "    \n",
    "    def __init__(self, id_num, first_name, last_name, grades, credits, major):\n",
    "        self.id = id_num\n",
    "        self.first_name = first_name\n",
    "        self.last_name = last_name\n",
    "        self.grades = grades \n",
    "        self.credits = credits\n",
    "        self.major = major\n",
    "        \n",
    "    # Check if the id number is valid (5 digits, starting with number one)\n",
    "    def is_id_valid(self):\n",
    "        return isinstance(self.id, int) & (len(str(self.id)) == 5) & (str(self.id)[0] == '1')\n",
    "    \n",
    "    # Check if the grades list has the same length as the credits list\n",
    "    def is_same_length(self):\n",
    "        return len(self.grades) == len(self.credits)\n",
    "    \n",
    "    # Append grade and credit\n",
    "    def append_grades_credits(self, grade, credit):\n",
    "        self.grades.append(grade)\n",
    "        self.credits.append(credit)\n",
    "        \n",
    "    # Computes the unweighted average of the student's grades\n",
    "    def unweighted_avg_grade(self):\n",
    "        unweighted_avg = sum(self.grades) / len(self.grades)\n",
    "        return unweighted_avg\n",
    "        \n",
    "    # method to display the student when we type print command\n",
    "    def __str__(self):\n",
    "        stu_info = \"\"\"\n",
    "        Student:\n",
    "            Id: {id_num}\n",
    "            Name: {last}, {first}\n",
    "            Major: {major}\n",
    "            \"\"\".format(id_num = self.id, last = self.last_name, first = self.first_name, major = self.major)\n",
    "        return stu_info\n",
    "    \n",
    "    # method to display the variable storing a student when typed in the console\n",
    "    def __repr__(self):\n",
    "        return \"Student({last}, {first}; {id_num})\".format(last = self.last_name, first = self.first_name, id_num = self.id)"
   ]
  },
  {
   "cell_type": "code",
   "execution_count": 4,
   "metadata": {},
   "outputs": [
    {
     "name": "stdout",
     "output_type": "stream",
     "text": [
      "The unweighted average grades of student Cecilia Kim is 87.225\n"
     ]
    }
   ],
   "source": [
    "# Test case\n",
    "stu = Student(13862, 'Cecilia', 'Kim', [90.2, 95.7, 80, 83], [4, 5, 3, 4], 'Statistics')\n",
    "print('The unweighted average grades of student ' + stu.first_name + ' ' + stu.last_name + ' is ' + str(stu.unweighted_avg_grade()))"
   ]
  },
  {
   "cell_type": "markdown",
   "metadata": {},
   "source": [
    "\n",
    "***\n",
    "\n",
    "### Question 5\n",
    "\n",
    "Create a module in the class Student that computes the weighted average of the student's grades, weighted by the credits."
   ]
  },
  {
   "cell_type": "code",
   "execution_count": 3,
   "metadata": {},
   "outputs": [],
   "source": [
    "import pandas as pd\n",
    "\n",
    "class Student:\n",
    "    \n",
    "    def __init__(self, id_num, first_name, last_name, grades, credits, major):\n",
    "        self.id = id_num\n",
    "        self.first_name = first_name\n",
    "        self.last_name = last_name\n",
    "        self.grades = grades \n",
    "        self.credits = credits\n",
    "        self.major = major\n",
    "        \n",
    "    # Check if the id number is valid (5 digits, starting with number one)\n",
    "    def is_id_valid(self):\n",
    "        return isinstance(self.id, int) & (len(str(self.id)) == 5) & (str(self.id)[0] == '1')\n",
    "    \n",
    "    # Check if the grades list has the same length as the credits list\n",
    "    def is_same_length(self):\n",
    "        return len(self.grades) == len(self.credits)\n",
    "    \n",
    "    # Append grade and credit\n",
    "    def append_grades_credits(self, grade, credit):\n",
    "        self.grades.append(grade)\n",
    "        self.credits.append(credit)\n",
    "        \n",
    "    # Computes the unweighted average of the student's grades\n",
    "    def unweighted_avg_grade(self):\n",
    "        unweighted_avg = sum(self.grades) / len(self.grades)\n",
    "        return unweighted_avg\n",
    "        \n",
    "    # Computes the weighted average of the student's grades, weighted by the credits\n",
    "    def weighted_avg_grade(self):\n",
    "        tmp = 0\n",
    "        for i in range(len(self.grades)):\n",
    "            tmp += self.grades[i] * self.credits[i]\n",
    "        avg = tmp / sum(self.credits)\n",
    "        return avg\n",
    "        \n",
    "    # method to display the student when we type print command\n",
    "    def __str__(self):\n",
    "        stu_info = \"\"\"\n",
    "        Student:\n",
    "            Id: {id_num}\n",
    "            Name: {last}, {first}\n",
    "            Major: {major}\n",
    "            \"\"\".format(id_num = self.id, last = self.last_name, first = self.first_name, major = self.major)\n",
    "        return stu_info\n",
    "    \n",
    "    # method to display the variable storing a student when typed in the console\n",
    "    def __repr__(self):\n",
    "        return \"Student({last}, {first}; {id_num})\".format(last = self.last_name, first = self.first_name, id_num = self.id)"
   ]
  },
  {
   "cell_type": "code",
   "execution_count": 4,
   "metadata": {},
   "outputs": [
    {
     "name": "stdout",
     "output_type": "stream",
     "text": [
      "The weighted average grades of student Cecilia Kim is 88.20625\n"
     ]
    }
   ],
   "source": [
    "# Test case\n",
    "stu = Student(13862, 'Cecilia', 'Kim', [90.2, 95.7, 80, 83], [4, 5, 3, 4], 'Statistics')\n",
    "print('The weighted average grades of student ' + stu.first_name + ' ' + stu.last_name + ' is ' + str(stu.weighted_avg_grade()))"
   ]
  },
  {
   "cell_type": "markdown",
   "metadata": {},
   "source": [
    "**That's all, folks!**"
   ]
  }
 ],
 "metadata": {
  "kernelspec": {
   "display_name": "Python 3",
   "language": "python",
   "name": "python3"
  },
  "language_info": {
   "codemirror_mode": {
    "name": "ipython",
    "version": 3
   },
   "file_extension": ".py",
   "mimetype": "text/x-python",
   "name": "python",
   "nbconvert_exporter": "python",
   "pygments_lexer": "ipython3",
   "version": "3.8.5"
  }
 },
 "nbformat": 4,
 "nbformat_minor": 4
}
