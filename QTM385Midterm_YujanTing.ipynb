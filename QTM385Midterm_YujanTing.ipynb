{
 "cells": [
  {
   "cell_type": "markdown",
   "metadata": {},
   "source": [
    "# QTM 385\n",
    "\n",
    "***\n",
    "\n",
    "## Midterm\n",
    "\n",
    "Student: [2361170]"
   ]
  },
  {
   "cell_type": "markdown",
   "metadata": {},
   "source": [
    "### Helper methods:"
   ]
  },
  {
   "cell_type": "code",
   "execution_count": 1,
   "metadata": {},
   "outputs": [],
   "source": [
    "import random as rd\n",
    "import string "
   ]
  },
  {
   "cell_type": "code",
   "execution_count": 2,
   "metadata": {},
   "outputs": [],
   "source": [
    "def open_file(file_name, open_type):\n",
    "    try:\n",
    "        f = open(file_name, 'r')\n",
    "        return f\n",
    "    except:\n",
    "        if open_type == 'show':\n",
    "            print(\"Error. \" + \"'\" + file_name + \"'\" + \" is not available.\")\n",
    "        else:\n",
    "            print('Error. The ' + open_type + ' failed.')\n",
    "        return "
   ]
  },
  {
   "cell_type": "code",
   "execution_count": 3,
   "metadata": {},
   "outputs": [],
   "source": [
    "def mapping(type):\n",
    "    \n",
    "    rd.seed(key)\n",
    "    letters = list(string.ascii_lowercase)\n",
    "    letters_shuffled = letters[:]\n",
    "    rd.shuffle(letters_shuffled)\n",
    "    \n",
    "    if type == 'encryption_map':\n",
    "        return dict(zip(letters, letters_shuffled))\n",
    "    elif type == 'decryption_map':\n",
    "        return dict(zip(letters_shuffled, letters))\n"
   ]
  },
  {
   "cell_type": "markdown",
   "metadata": {},
   "source": [
    "***\n",
    "### Methods corresponding to the eight commands::"
   ]
  },
  {
   "cell_type": "markdown",
   "metadata": {},
   "source": [
    "1. Method **show_message( )** corresponds to command **show-message**: Display the original message on the screen."
   ]
  },
  {
   "cell_type": "code",
   "execution_count": 4,
   "metadata": {},
   "outputs": [],
   "source": [
    "def show_message():\n",
    "    f = open_file('message.txt', 'show')\n",
    "    if f is None: \n",
    "        return\n",
    "    lines = f.readlines()\n",
    "    count = len(lines)\n",
    "    if count > 10:\n",
    "        # print the first 5 lines\n",
    "        for line in lines[0:5]:\n",
    "            print(line.strip())\n",
    "        print('...')\n",
    "        # print the last 5 lines\n",
    "        for line in lines[-5:]:\n",
    "            print(line.strip())\n",
    "    else:\n",
    "        for line in lines:\n",
    "            print(line.strip())\n",
    "    f.close()"
   ]
  },
  {
   "cell_type": "markdown",
   "metadata": {},
   "source": [
    "2. Method **show_encrypted( )** corresponds to command **show-encrypted**: Display the encrypted message on the screen."
   ]
  },
  {
   "cell_type": "code",
   "execution_count": 5,
   "metadata": {},
   "outputs": [],
   "source": [
    "def show_encrypted():\n",
    "    f_encrypted = open_file('encryption.txt', 'show')\n",
    "    if f_encrypted is None:\n",
    "        return\n",
    "    lines = f_encrypted.readlines()\n",
    "    count = len(lines)\n",
    "    if count > 10:\n",
    "        # print the first 5 lines\n",
    "        for line in lines[0:5]:\n",
    "            print(line.strip())\n",
    "        print('...')\n",
    "        # print the last 5 lines\n",
    "        for line in lines[-5:]:\n",
    "            print(line.strip())\n",
    "    else:\n",
    "        for line in lines:\n",
    "            print(line.strip())\n",
    "    f_encrypted.close()"
   ]
  },
  {
   "cell_type": "markdown",
   "metadata": {},
   "source": [
    "   \n",
    "   \n",
    "3. Method **show_key( )** corresponds to command **show-key**: Display the 3-digit encryption key."
   ]
  },
  {
   "cell_type": "code",
   "execution_count": 6,
   "metadata": {},
   "outputs": [],
   "source": [
    "def show_key():\n",
    "    print('The encryption key is: ' + str(key))"
   ]
  },
  {
   "cell_type": "markdown",
   "metadata": {},
   "source": [
    "4. Method **set_key( )** corresponds to command **set-key**: Request for the user a new encryption key."
   ]
  },
  {
   "cell_type": "code",
   "execution_count": 7,
   "metadata": {},
   "outputs": [],
   "source": [
    "def set_key():\n",
    "    while True:\n",
    "        cmd = input('Type the encryption key: ')\n",
    "        try:\n",
    "            x = int(cmd) # check if the input is integer\n",
    "            if x >= 100 and x <= 999: # check integer range\n",
    "                global key\n",
    "                global encryption_dict\n",
    "                global decryption_dict\n",
    "                key = x\n",
    "                encryption_dict = mapping('encryption_map')\n",
    "                decryption_dict = mapping('decryption_map')\n",
    "                break\n",
    "            else:\n",
    "                print('Error: it should be a number between 100 and 999.')\n",
    "        except:\n",
    "            print('Error: it should be a number between 100 and 999.')"
   ]
  },
  {
   "cell_type": "markdown",
   "metadata": {},
   "source": [
    "5. Method **show_map( )** corresponds to command **show-map**: Return two dictionaries, with a character mapping for encrypting and decrypting the message, based on the encryption key."
   ]
  },
  {
   "cell_type": "code",
   "execution_count": 8,
   "metadata": {},
   "outputs": [],
   "source": [
    "def show_map():\n",
    "    print('The encryption map is:')\n",
    "    for key, value in encryption_dict.items():\n",
    "        print(key + ' => ' + value, end = '\\t')\n",
    "    \n",
    "    print('\\n' + '\\n' + 'And the decryption map is:')\n",
    "    for key, value in encryption_dict.items():\n",
    "        print(value + ' => ' + key, end = '\\t')\n",
    "    print('')"
   ]
  },
  {
   "cell_type": "markdown",
   "metadata": {},
   "source": [
    "6. Method **encrypt( )** corresponds to command **encrypt**: Open the file `message.txt`, encrypt it, and save the result in a file called `encrypted.txt`."
   ]
  },
  {
   "cell_type": "code",
   "execution_count": 9,
   "metadata": {},
   "outputs": [],
   "source": [
    "def encrypt():\n",
    "    # read the file \n",
    "    f = open_file('message.txt', 'encryption')\n",
    "    if f == None: \n",
    "        return\n",
    "    \n",
    "    # encrypt the file\n",
    "    f_encrypted = open('encryption.txt', 'w')\n",
    "    for line in f:\n",
    "        new_line = ''.join([encryption_dict.get(i,i) for i in list(line.strip())])\n",
    "        f_encrypted.write(new_line + '\\n')\n",
    "    print('Successful encryption.')\n",
    "    f_encrypted.close()\n",
    "    f.close()\n"
   ]
  },
  {
   "cell_type": "markdown",
   "metadata": {},
   "source": [
    "7. Method **decrypt( )** corresponds to command **decrypt**: Open the file `encrypted.txt`, decrypt it, and display the original message on the screen."
   ]
  },
  {
   "cell_type": "code",
   "execution_count": 10,
   "metadata": {},
   "outputs": [],
   "source": [
    "def decrypt():\n",
    "    # read the encrypted file \n",
    "    f_encrypted = open_file('encryption.txt', 'decryption')\n",
    "    if f_encrypted is None:\n",
    "        return\n",
    "\n",
    "    # decrypt the file\n",
    "    print('Successfully decrypted.\\n' + 'Your message is: ')\n",
    "    for line in f_encrypted:\n",
    "        new_line = ''.join([decryption_dict.get(i,i) for i in list(line.strip())])\n",
    "        print(new_line)\n",
    "    f_encrypted.close()"
   ]
  },
  {
   "cell_type": "markdown",
   "metadata": {},
   "source": [
    "8. command **bye**: Finishes the execution of the program.  \n",
    "See command prompt"
   ]
  },
  {
   "cell_type": "markdown",
   "metadata": {},
   "source": [
    "\n",
    "***\n",
    "### Command prompt that receives the eight commands:\n"
   ]
  },
  {
   "cell_type": "code",
   "execution_count": null,
   "metadata": {},
   "outputs": [],
   "source": [
    "set_key()\n",
    "while True:\n",
    "    cmd = input('>> ')\n",
    "    if  cmd == 'show-message':\n",
    "        show_message()\n",
    "    elif cmd == 'show-encrypted':\n",
    "        show_encrypted()\n",
    "    elif cmd == 'show-key':\n",
    "        show_key()\n",
    "    elif cmd == 'set-key':\n",
    "        set_key()\n",
    "    elif cmd == 'show-map':\n",
    "        show_map()\n",
    "    elif cmd == 'encrypt':\n",
    "        encrypt()\n",
    "    elif cmd == 'decrypt':\n",
    "        decrypt()\n",
    "    elif cmd == 'bye':\n",
    "        print('Bye! Have a nice day.')\n",
    "        break\n",
    "    else:\n",
    "        print('Error. Invalid command.')"
   ]
  }
 ],
 "metadata": {
  "kernelspec": {
   "display_name": "Python 3",
   "language": "python",
   "name": "python3"
  },
  "language_info": {
   "codemirror_mode": {
    "name": "ipython",
    "version": 3
   },
   "file_extension": ".py",
   "mimetype": "text/x-python",
   "name": "python",
   "nbconvert_exporter": "python",
   "pygments_lexer": "ipython3",
   "version": "3.8.5"
  }
 },
 "nbformat": 4,
 "nbformat_minor": 4
}
